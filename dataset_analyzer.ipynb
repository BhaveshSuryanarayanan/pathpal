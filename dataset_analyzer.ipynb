{
 "cells": [
  {
   "cell_type": "code",
   "execution_count": null,
   "metadata": {},
   "outputs": [
    {
     "ename": "",
     "evalue": "",
     "output_type": "error",
     "traceback": [
      "\u001b[1;31mRunning cells with 'Python' requires the ipykernel package.\n",
      "\u001b[1;31mRun the following command to install 'ipykernel' into the Python environment. \n",
      "\u001b[1;31mCommand: '/bin/python3.13 -m pip install ipykernel -U --user --force-reinstall'"
     ]
    }
   ],
   "source": [
    "import os\n",
    "import matplotlib.pyplot as plt\n",
    "import numpy as np\n",
    "import yaml\n",
    "from PIL import Image"
   ]
  },
  {
   "cell_type": "code",
   "execution_count": null,
   "metadata": {},
   "outputs": [
    {
     "ename": "",
     "evalue": "",
     "output_type": "error",
     "traceback": [
      "\u001b[1;31mRunning cells with 'Python' requires the ipykernel package.\n",
      "\u001b[1;31mRun the following command to install 'ipykernel' into the Python environment. \n",
      "\u001b[1;31mCommand: '/bin/python3.13 -m pip install ipykernel -U --user --force-reinstall'"
     ]
    }
   ],
   "source": [
    "dataset_path = r\"/home/bhavesh/pathpal/datasets/grocery/dataset2\"\n",
    "train_path = os.path.join(dataset_path,'train')\n",
    "val_path = os.path.join(dataset_path,'valid')\n",
    "test_path = os.path.join(dataset_path,'test')\n",
    "train_images_path = os.path.join(dataset_path,'train/images')\n",
    "train_labels_path = os.path.join(dataset_path,'train/labels')\n",
    "val_images_path = os.path.join(dataset_path,'valid/labels')\n",
    "val_labels_path = os.path.join(dataset_path,'valid/labels')\n",
    "test_images_path = os.path.join(dataset_path,'test/images')\n",
    "test_labels_path = os.path.join(dataset_path,'test/labels')"
   ]
  },
  {
   "cell_type": "code",
   "execution_count": null,
   "metadata": {},
   "outputs": [
    {
     "ename": "",
     "evalue": "",
     "output_type": "error",
     "traceback": [
      "\u001b[1;31mRunning cells with 'Python' requires the ipykernel package.\n",
      "\u001b[1;31mRun the following command to install 'ipykernel' into the Python environment. \n",
      "\u001b[1;31mCommand: '/bin/python3.13 -m pip install ipykernel -U --user --force-reinstall'"
     ]
    }
   ],
   "source": [
    "os.path.exists(dataset_path)"
   ]
  },
  {
   "cell_type": "code",
   "execution_count": null,
   "metadata": {},
   "outputs": [
    {
     "ename": "",
     "evalue": "",
     "output_type": "error",
     "traceback": [
      "\u001b[1;31mRunning cells with 'Python' requires the ipykernel package.\n",
      "\u001b[1;31mRun the following command to install 'ipykernel' into the Python environment. \n",
      "\u001b[1;31mCommand: '/bin/python3.13 -m pip install ipykernel -U --user --force-reinstall'"
     ]
    }
   ],
   "source": [
    "with open(os.path.join(dataset_path, 'data.yaml')) as file:\n",
    "    yaml_data = yaml.load(file, Loader=yaml.FullLoader)\n",
    "classes = yaml_data['names']\n",
    "print(classes)\n",
    "print(len(classes))"
   ]
  },
  {
   "cell_type": "code",
   "execution_count": null,
   "metadata": {},
   "outputs": [
    {
     "ename": "",
     "evalue": "",
     "output_type": "error",
     "traceback": [
      "\u001b[1;31mRunning cells with 'Python' requires the ipykernel package.\n",
      "\u001b[1;31mRun the following command to install 'ipykernel' into the Python environment. \n",
      "\u001b[1;31mCommand: '/bin/python3.13 -m pip install ipykernel -U --user --force-reinstall'"
     ]
    }
   ],
   "source": [
    "def load_data(images_path, labels_path):\n",
    "    image_files = [f for f in os.listdir(images_path) if f.endswith(('.jpg', '.png','.jpeg'))]\n",
    "    label_files_unordered = [f for f in os.listdir(labels_path) if f.endswith('.txt')]\n",
    "    \n",
    "    label_files = []\n",
    "\n",
    "    for image_file in image_files:\n",
    "        label_file = os.path.join(labels_path,image_file.replace(os.path.splitext(image_file)[1], '.txt') )\n",
    "        if os.path.exists(label_file):\n",
    "            label_files.append(label_file)\n",
    "        else:\n",
    "            print(label_file)\n",
    "            print('what image is this bro?')\n",
    "            pass\n",
    "    \n",
    "    images = []\n",
    "    labels = []\n",
    "\n",
    "    for image_file, label_file in zip(image_files, label_files):\n",
    "        image_path = os.path.join(images_path, image_file)\n",
    "        image = Image.open(image_path)\n",
    "        images.append(image)\n",
    "\n",
    "        label_path = label_file\n",
    "        with open(label_path, 'r') as f:\n",
    "            lines = f.readlines()\n",
    "            \n",
    "        boxes = []\n",
    "        for line in lines:\n",
    "            parts = line.strip().split()\n",
    "            class_index = int(parts[0])  \n",
    "            x_center = float(parts[1])\n",
    "            y_center = float(parts[2])\n",
    "            width = float(parts[3])\n",
    "            height = float(parts[4])\n",
    "\n",
    "            boxes.append({\n",
    "                'class': class_index,\n",
    "                'x_center': x_center,\n",
    "                'y_center': y_center,\n",
    "                'width': width,\n",
    "                'height': height\n",
    "            })\n",
    "        labels.append(boxes)\n",
    "    \n",
    "    return images, labels    "
   ]
  },
  {
   "cell_type": "code",
   "execution_count": null,
   "metadata": {},
   "outputs": [
    {
     "ename": "",
     "evalue": "",
     "output_type": "error",
     "traceback": [
      "\u001b[1;31mRunning cells with 'Python' requires the ipykernel package.\n",
      "\u001b[1;31mRun the following command to install 'ipykernel' into the Python environment. \n",
      "\u001b[1;31mCommand: '/bin/python3.13 -m pip install ipykernel -U --user --force-reinstall'"
     ]
    }
   ],
   "source": [
    "images, labels = load_data(train_images_path, train_labels_path )"
   ]
  },
  {
   "cell_type": "code",
   "execution_count": null,
   "metadata": {},
   "outputs": [
    {
     "ename": "",
     "evalue": "",
     "output_type": "error",
     "traceback": [
      "\u001b[1;31mRunning cells with 'Python' requires the ipykernel package.\n",
      "\u001b[1;31mRun the following command to install 'ipykernel' into the Python environment. \n",
      "\u001b[1;31mCommand: '/bin/python3.13 -m pip install ipykernel -U --user --force-reinstall'"
     ]
    }
   ],
   "source": [
    "def display_sample(i):\n",
    "    img = images[i]\n",
    "    label = labels[i]\n",
    "\n",
    "    fig, ax = plt.subplots(1, figsize=(5, 5))\n",
    "    \n",
    "    # Display the image on the axis\n",
    "    ax.imshow(img)\n",
    "    \n",
    "    # Loop through each bounding box in the label data and draw it\n",
    "    for box in label:\n",
    "        # Get bounding box coordinates (in relative format)\n",
    "        x_center = box['x_center']\n",
    "        y_center = box['y_center']\n",
    "        width = box['width']\n",
    "        height = box['height']\n",
    "        \n",
    "        # Convert from relative to absolute pixel coordinates\n",
    "        image_width, image_height = img.size\n",
    "        x_min = (x_center - width / 2) * image_width\n",
    "        y_min = (y_center - height / 2) * image_height\n",
    "        x_max = (x_center + width / 2) * image_width\n",
    "        y_max = (y_center + height / 2) * image_height\n",
    "        \n",
    "        # Draw the bounding box on the image using matplotlib's Rectangle\n",
    "        ax.add_patch(plt.Rectangle(\n",
    "            (x_min, y_min), x_max - x_min, y_max - y_min, \n",
    "            linewidth=2, edgecolor='red', facecolor='none'\n",
    "        ))\n",
    "        ax.text(\n",
    "            x_min, y_min - 10,  # Position above the bounding box\n",
    "            classes[box['class']],  # Class name\n",
    "            color='red', fontsize=12, fontweight='bold'\n",
    "            # bbox=dict(facecolor='white', alpha=0.5, edgecolor='red', boxstyle='round,pad=0.5')\n",
    "        )\n",
    "\n",
    "    # Remove axis and display the image with bounding boxes\n",
    "    ax.axis('off')\n",
    "    plt.show()"
   ]
  },
  {
   "cell_type": "code",
   "execution_count": null,
   "metadata": {},
   "outputs": [
    {
     "ename": "",
     "evalue": "",
     "output_type": "error",
     "traceback": [
      "\u001b[1;31mRunning cells with 'Python' requires the ipykernel package.\n",
      "\u001b[1;31mRun the following command to install 'ipykernel' into the Python environment. \n",
      "\u001b[1;31mCommand: '/bin/python3.13 -m pip install ipykernel -U --user --force-reinstall'"
     ]
    }
   ],
   "source": [
    "import random\n",
    "i = random.randint(0,len(images))\n",
    "display_sample(i)"
   ]
  }
 ],
 "metadata": {
  "kernelspec": {
   "display_name": "pathpal_vm",
   "language": "python",
   "name": "python3"
  },
  "language_info": {
   "codemirror_mode": {
    "name": "ipython",
    "version": 3
   },
   "file_extension": ".py",
   "mimetype": "text/x-python",
   "name": "python",
   "nbconvert_exporter": "python",
   "pygments_lexer": "ipython3",
   "version": "3.13.1"
  }
 },
 "nbformat": 4,
 "nbformat_minor": 2
}
