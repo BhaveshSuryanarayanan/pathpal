{
 "cells": [
  {
   "cell_type": "code",
   "execution_count": 3,
   "metadata": {},
   "outputs": [
    {
     "name": "stdout",
     "output_type": "stream",
     "text": [
      "Ultralytics 8.3.59 🚀 Python-3.9.16 torch-2.5.1+cu124 CPU (13th Gen Intel Core(TM) i7-13700HX)\n",
      "YOLO11x summary (fused): 464 layers, 56,919,424 parameters, 0 gradients, 194.9 GFLOPs\n",
      "\n",
      "\u001b[34m\u001b[1mPyTorch:\u001b[0m starting from '/run/media/bhavesh/Shared/backup/pathpal/openhouse/yolo11x.pt' with input shape (1, 3, 640, 640) BCHW and output shape(s) (1, 84, 8400) (109.3 MB)\n",
      "\u001b[31m\u001b[1mrequirements:\u001b[0m Ultralytics requirements ['onnx>=1.12.0', 'onnxslim', 'onnxruntime-gpu'] not found, attempting AutoUpdate...\n",
      "Collecting onnx>=1.12.0\n",
      "  Downloading onnx-1.17.0-cp39-cp39-manylinux_2_17_x86_64.manylinux2014_x86_64.whl (16.0 MB)\n",
      "     ━━━━━━━━━━━━━━━━━━━━━━━━━━━━━━━━━━━━━━━━ 16.0/16.0 MB 19.4 MB/s eta 0:00:00\n",
      "Collecting onnxslim\n",
      "  Downloading onnxslim-0.1.48-py3-none-any.whl (142 kB)\n",
      "     ━━━━━━━━━━━━━━━━━━━━━━━━━━━━━━━━━━━━━━ 142.9/142.9 KB 30.2 MB/s eta 0:00:00\n",
      "Collecting onnxruntime-gpu\n",
      "  Downloading onnxruntime_gpu-1.19.2-cp39-cp39-manylinux_2_27_x86_64.manylinux_2_28_x86_64.whl (226.2 MB)\n",
      "     ━━━━━━━━━━━━━━━━━━━━━━━━━━━━━━━━━━━━━━ 226.2/226.2 MB 18.0 MB/s eta 0:00:00\n",
      "Requirement already satisfied: protobuf>=3.20.2 in /home/bhavesh/.pyenv/versions/3.9.16/envs/pathpal_vm/lib/python3.9/site-packages (from onnx>=1.12.0) (4.25.6)\n",
      "Requirement already satisfied: numpy>=1.20 in /home/bhavesh/.pyenv/versions/3.9.16/envs/pathpal_vm/lib/python3.9/site-packages (from onnx>=1.12.0) (1.26.4)\n",
      "Requirement already satisfied: sympy in /home/bhavesh/.pyenv/versions/3.9.16/envs/pathpal_vm/lib/python3.9/site-packages (from onnxslim) (1.13.1)\n",
      "Requirement already satisfied: packaging in /home/bhavesh/.pyenv/versions/3.9.16/envs/pathpal_vm/lib/python3.9/site-packages (from onnxslim) (24.2)\n",
      "Collecting coloredlogs\n",
      "  Downloading coloredlogs-15.0.1-py2.py3-none-any.whl (46 kB)\n",
      "     ━━━━━━━━━━━━━━━━━━━━━━━━━━━━━━━━━━━━━━━━ 46.0/46.0 KB 43.0 MB/s eta 0:00:00\n",
      "Requirement already satisfied: flatbuffers in /home/bhavesh/.pyenv/versions/3.9.16/envs/pathpal_vm/lib/python3.9/site-packages (from onnxruntime-gpu) (25.1.24)\n",
      "Collecting humanfriendly>=9.1\n",
      "  Downloading humanfriendly-10.0-py2.py3-none-any.whl (86 kB)\n",
      "     ━━━━━━━━━━━━━━━━━━━━━━━━━━━━━━━━━━━━━━━ 86.8/86.8 KB 172.3 MB/s eta 0:00:00\n",
      "Requirement already satisfied: mpmath<1.4,>=1.1.0 in /home/bhavesh/.pyenv/versions/3.9.16/envs/pathpal_vm/lib/python3.9/site-packages (from sympy->onnxslim) (1.3.0)\n",
      "Installing collected packages: onnx, humanfriendly, onnxslim, coloredlogs, onnxruntime-gpu\n",
      "Successfully installed coloredlogs-15.0.1 humanfriendly-10.0 onnx-1.17.0 onnxruntime-gpu-1.19.2 onnxslim-0.1.48\n",
      "\n",
      "\u001b[31m\u001b[1mrequirements:\u001b[0m AutoUpdate success ✅ 22.1s, installed 3 packages: ['onnx>=1.12.0', 'onnxslim', 'onnxruntime-gpu']\n",
      "\u001b[31m\u001b[1mrequirements:\u001b[0m ⚠️ \u001b[1mRestart runtime or rerun command for updates to take effect\u001b[0m\n",
      "\n",
      "\n",
      "\u001b[34m\u001b[1mONNX:\u001b[0m starting export with onnx 1.17.0 opset 19...\n"
     ]
    },
    {
     "name": "stderr",
     "output_type": "stream",
     "text": [
      "WARNING: You are using pip version 22.0.4; however, version 25.0.1 is available.\n",
      "You should consider upgrading via the '/home/bhavesh/.pyenv/versions/3.9.16/envs/pathpal_vm/bin/python -m pip install --upgrade pip' command.\n"
     ]
    },
    {
     "name": "stdout",
     "output_type": "stream",
     "text": [
      "\u001b[34m\u001b[1mONNX:\u001b[0m slimming with onnxslim 0.1.48...\n",
      "\u001b[34m\u001b[1mONNX:\u001b[0m export success ✅ 27.9s, saved as '/run/media/bhavesh/Shared/backup/pathpal/openhouse/yolo11x.onnx' (217.5 MB)\n",
      "\n",
      "Export complete (31.4s)\n",
      "Results saved to \u001b[1m/run/media/bhavesh/Shared/backup/pathpal/openhouse\u001b[0m\n",
      "Predict:         yolo predict task=detect model=/run/media/bhavesh/Shared/backup/pathpal/openhouse/yolo11x.onnx imgsz=640  \n",
      "Validate:        yolo val task=detect model=/run/media/bhavesh/Shared/backup/pathpal/openhouse/yolo11x.onnx imgsz=640 data=/ultralytics/ultralytics/cfg/datasets/coco.yaml  \n",
      "Visualize:       https://netron.app\n"
     ]
    },
    {
     "data": {
      "text/plain": [
       "'/run/media/bhavesh/Shared/backup/pathpal/openhouse/yolo11x.onnx'"
      ]
     },
     "execution_count": 3,
     "metadata": {},
     "output_type": "execute_result"
    }
   ],
   "source": [
    "import torch\n",
    "from ultralytics import YOLO\n",
    "\n",
    "# Load YOLO model\n",
    "model = YOLO(r'/run/media/bhavesh/Shared/backup/pathpal/openhouse/yolo11x.pt')\n",
    "model.export(format=\"onnx\")"
   ]
  }
 ],
 "metadata": {
  "kernelspec": {
   "display_name": "pathpal_vm",
   "language": "python",
   "name": "python3"
  },
  "language_info": {
   "codemirror_mode": {
    "name": "ipython",
    "version": 3
   },
   "file_extension": ".py",
   "mimetype": "text/x-python",
   "name": "python",
   "nbconvert_exporter": "python",
   "pygments_lexer": "ipython3",
   "version": "3.9.16"
  }
 },
 "nbformat": 4,
 "nbformat_minor": 2
}
